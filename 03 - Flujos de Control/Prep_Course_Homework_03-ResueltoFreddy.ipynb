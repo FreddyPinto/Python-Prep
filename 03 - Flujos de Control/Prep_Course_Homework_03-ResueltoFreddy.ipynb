{
 "cells": [
  {
   "cell_type": "markdown",
   "metadata": {},
   "source": [
    "## Flujos de Control"
   ]
  },
  {
   "cell_type": "markdown",
   "metadata": {},
   "source": [
    "1) Crear una variable que contenga un elemento del conjunto de números enteros y luego imprimir por pantalla si es mayor o menor a cero"
   ]
  },
  {
   "cell_type": "code",
   "execution_count": 1,
   "metadata": {},
   "outputs": [
    {
     "name": "stdout",
     "output_type": "stream",
     "text": [
      "5 es mayor a 0\n"
     ]
    }
   ],
   "source": [
    "a = 5\n",
    "if a > 0:\n",
    "    print(a, 'es mayor a 0')\n",
    "elif a < 0:    \n",
    "    print(a, 'es menor a 0')\n",
    "else:\n",
    "    print(a, 'es igual a 0')"
   ]
  },
  {
   "cell_type": "markdown",
   "metadata": {},
   "source": [
    "2) Crear dos variables y un condicional que informe si son del mismo tipo de dato"
   ]
  },
  {
   "cell_type": "code",
   "execution_count": 2,
   "metadata": {},
   "outputs": [
    {
     "name": "stdout",
     "output_type": "stream",
     "text": [
      "5 no es del mismo tipo de dato que True\n"
     ]
    }
   ],
   "source": [
    "a = 5\n",
    "b = True\n",
    "if type(a) == type(b):\n",
    "    print(a,'es del mismo tipo de dato que', b)\n",
    "else:\n",
    "     print(a,'no es del mismo tipo de dato que' , b)   "
   ]
  },
  {
   "cell_type": "markdown",
   "metadata": {},
   "source": [
    "3) Para los valores enteros del 1 al 20, imprimir por pantalla si es par o impar"
   ]
  },
  {
   "cell_type": "code",
   "execution_count": 3,
   "metadata": {},
   "outputs": [
    {
     "name": "stdout",
     "output_type": "stream",
     "text": [
      "1 es Impar\n",
      "2 es Par\n",
      "3 es Impar\n",
      "4 es Par\n",
      "5 es Impar\n",
      "6 es Par\n",
      "7 es Impar\n",
      "8 es Par\n",
      "9 es Impar\n",
      "10 es Par\n",
      "11 es Impar\n",
      "12 es Par\n",
      "13 es Impar\n",
      "14 es Par\n",
      "15 es Impar\n",
      "16 es Par\n",
      "17 es Impar\n",
      "18 es Par\n",
      "19 es Impar\n",
      "20 es Par\n"
     ]
    }
   ],
   "source": [
    "for n in range (1,21):\n",
    "    if n%2 == 0:\n",
    "        print(n, 'es Par')\n",
    "    else:\n",
    "        print(n, 'es Impar')"
   ]
  },
  {
   "cell_type": "markdown",
   "metadata": {},
   "source": [
    "4) En un ciclo for mostrar para los valores entre 0 y 5 el resultado de elevarlo a la potencia igual a 3"
   ]
  },
  {
   "cell_type": "code",
   "execution_count": 4,
   "metadata": {},
   "outputs": [
    {
     "name": "stdout",
     "output_type": "stream",
     "text": [
      "0 elevado a la 3 es: 0\n",
      "1 elevado a la 3 es: 1\n",
      "2 elevado a la 3 es: 8\n",
      "3 elevado a la 3 es: 27\n",
      "4 elevado a la 3 es: 64\n",
      "5 elevado a la 3 es: 125\n"
     ]
    }
   ],
   "source": [
    "for n in range(0,6):\n",
    "    print(n, 'elevado a la 3 es:', n**3)"
   ]
  },
  {
   "cell_type": "markdown",
   "metadata": {},
   "source": [
    "5) Crear una variable que contenga un número entero y realizar un ciclo for la misma cantidad de ciclos"
   ]
  },
  {
   "cell_type": "code",
   "execution_count": 5,
   "metadata": {},
   "outputs": [
    {
     "name": "stdout",
     "output_type": "stream",
     "text": [
      "0\n",
      "1\n",
      "2\n",
      "3\n",
      "4\n",
      "5\n"
     ]
    }
   ],
   "source": [
    "n = 6\n",
    "for i in range(0, n):\n",
    "    print(i)"
   ]
  },
  {
   "cell_type": "markdown",
   "metadata": {},
   "source": [
    "6) Utilizar un ciclo while para realizar el factorial de un número guardado en una variable, sólo si la variable contiene un número entero mayor a 0"
   ]
  },
  {
   "cell_type": "code",
   "execution_count": 6,
   "metadata": {},
   "outputs": [
    {
     "name": "stdout",
     "output_type": "stream",
     "text": [
      "El Factorial de 6 es 720\n"
     ]
    }
   ],
   "source": [
    "factorial = 1\n",
    "if type(n) == int:\n",
    "    if n > 0:\n",
    "        n_original = n\n",
    "        while n > 1:\n",
    "            factorial *= n\n",
    "            n-=1\n",
    "        print('El Factorial de', n_original,'es', factorial)\n",
    "    else:\n",
    "        print('La variable debe ser mayor a cero.')\n",
    "else: \n",
    "    print('La variable debe ser un número entero.')   "
   ]
  },
  {
   "cell_type": "markdown",
   "metadata": {},
   "source": [
    "7) Crear un ciclo for dentro de un ciclo while"
   ]
  },
  {
   "cell_type": "code",
   "execution_count": 8,
   "metadata": {},
   "outputs": [
    {
     "name": "stdout",
     "output_type": "stream",
     "text": [
      "Sumaremos los intervalos de enteros indicados (ambos incluidos) hasta que se introduzcan dos ceros.\n",
      "La suma total es:  52\n"
     ]
    }
   ],
   "source": [
    "print('Sumaremos los intervalos de enteros indicados (ambos incluidos) hasta que se introduzcan dos ceros.')\n",
    "suma_total = 0\n",
    "principio = eval(input('Inicio: '))\n",
    "fin = eval(input('Fin: '))\n",
    "while principio != 0 and fin != 0:\n",
    "    suma_parcial = 0\n",
    "    for i in range(principio, fin + 1):\n",
    "        suma_parcial = suma_parcial + i\n",
    "    suma_total = suma_total + suma_parcial\n",
    "    principio = eval(input('Inicio: '))\n",
    "    fin = eval(input('Fin: '))\n",
    "print('La suma total es: ', suma_total)\n"
   ]
  },
  {
   "cell_type": "markdown",
   "metadata": {},
   "source": [
    "8) Crear un ciclo while dentro de un ciclo for"
   ]
  },
  {
   "cell_type": "code",
   "execution_count": 11,
   "metadata": {},
   "outputs": [
    {
     "name": "stdout",
     "output_type": "stream",
     "text": [
      "Ciclo for nro: 1\n",
      "Ciclo while nro: 5\n",
      "Ciclo for nro: 2\n",
      "Ciclo while nro: 5\n",
      "Ciclo for nro: 3\n",
      "Ciclo while nro: 5\n",
      "Ciclo for nro: 4\n",
      "Ciclo while nro: 5\n"
     ]
    }
   ],
   "source": [
    "n = 5\n",
    "for i in range (1, n):\n",
    "    while n < 5:\n",
    "        n -= 1\n",
    "    print('Ciclo for nro:', i)\n",
    "    print('Ciclo while nro:', n)"
   ]
  },
  {
   "attachments": {},
   "cell_type": "markdown",
   "metadata": {},
   "source": [
    "9) Imprimir los números primos existentes entre 0 y 30"
   ]
  },
  {
   "cell_type": "code",
   "execution_count": 12,
   "metadata": {},
   "outputs": [
    {
     "name": "stdout",
     "output_type": "stream",
     "text": [
      "0 es primo\n",
      "1 es primo\n",
      "2 es primo\n",
      "3 es primo\n",
      "5 es primo\n",
      "7 es primo\n",
      "11 es primo\n",
      "13 es primo\n",
      "17 es primo\n",
      "19 es primo\n",
      "23 es primo\n",
      "29 es primo\n",
      "Cantidad de Ciclos: 406\n"
     ]
    }
   ],
   "source": [
    "ciclos_sin_break = 0\n",
    "for n in range (0,31):\n",
    "    es_primo = True\n",
    "    for i in range (2,n):\n",
    "        ciclos_sin_break +=1\n",
    "        if n % i == 0:\n",
    "            es_primo = False\n",
    "    if es_primo:\n",
    "        print (n, 'es primo')\n",
    "print('Cantidad de Ciclos:', ciclos_sin_break)"
   ]
  },
  {
   "cell_type": "code",
   "execution_count": 13,
   "metadata": {},
   "outputs": [
    {
     "name": "stdout",
     "output_type": "stream",
     "text": [
      "1 es primo\n",
      "3 es primo\n",
      "5 es primo\n",
      "7 es primo\n",
      "9 es primo\n",
      "11 es primo\n",
      "13 es primo\n",
      "15 es primo\n",
      "17 es primo\n",
      "19 es primo\n",
      "21 es primo\n",
      "23 es primo\n",
      "25 es primo\n",
      "27 es primo\n",
      "29 es primo\n"
     ]
    }
   ],
   "source": [
    "for n in range (0,31):\n",
    "    es_primo = True\n",
    "    if n % 2 == 0:\n",
    "        es_primo = False\n",
    "    if es_primo:\n",
    "        print (n, 'es primo')"
   ]
  },
  {
   "cell_type": "code",
   "execution_count": 14,
   "metadata": {},
   "outputs": [
    {
     "name": "stdout",
     "output_type": "stream",
     "text": [
      "0 es primo\n",
      "1 es primo\n",
      "2 es primo\n",
      "3 es primo\n",
      "5 es primo\n",
      "7 es primo\n",
      "11 es primo\n",
      "13 es primo\n",
      "17 es primo\n",
      "19 es primo\n",
      "23 es primo\n",
      "29 es primo\n"
     ]
    }
   ],
   "source": [
    "n = 0\n",
    "tope_rango = 30\n",
    "es_primo = True\n",
    "while n < tope_rango:\n",
    "    for i in range(2,n):\n",
    "        if n % i == 0:\n",
    "            es_primo = False\n",
    "    if es_primo:\n",
    "        print(n, 'es primo')\n",
    "    else:\n",
    "        es_primo = True    \n",
    "    n += 1"
   ]
  },
  {
   "cell_type": "code",
   "execution_count": 15,
   "metadata": {},
   "outputs": [
    {
     "name": "stdout",
     "output_type": "stream",
     "text": [
      "1 es primo\n",
      "3 es primo\n",
      "5 es primo\n",
      "7 es primo\n",
      "9 es primo\n",
      "11 es primo\n",
      "13 es primo\n",
      "15 es primo\n",
      "17 es primo\n",
      "19 es primo\n",
      "21 es primo\n",
      "23 es primo\n",
      "25 es primo\n",
      "27 es primo\n",
      "29 es primo\n"
     ]
    }
   ],
   "source": [
    "n = 0\n",
    "tope_rango = 30\n",
    "es_primo = True\n",
    "while n < tope_rango:\n",
    "    if n % 2 == 0:\n",
    "        es_primo = False\n",
    "    else:\n",
    "        print(n, 'es primo')   \n",
    "    n += 1"
   ]
  },
  {
   "cell_type": "markdown",
   "metadata": {},
   "source": [
    "10) ¿Se puede mejorar el proceso del punto 9? Utilizar las sentencias break y/ó continue para tal fin"
   ]
  },
  {
   "cell_type": "code",
   "execution_count": 16,
   "metadata": {},
   "outputs": [
    {
     "name": "stdout",
     "output_type": "stream",
     "text": [
      "0 es primo\n",
      "1 es primo\n",
      "2 es primo\n",
      "3 es primo\n",
      "5 es primo\n",
      "7 es primo\n",
      "11 es primo\n",
      "13 es primo\n",
      "17 es primo\n",
      "19 es primo\n",
      "23 es primo\n",
      "29 es primo\n",
      "Cantidad de Ciclos: 135\n"
     ]
    }
   ],
   "source": [
    "ciclos_con_break = 0\n",
    "for n in range (0,31):\n",
    "    es_primo = True\n",
    "    for i in range (2,n):\n",
    "        ciclos_con_break += 1\n",
    "        if n % i == 0:\n",
    "            es_primo = False\n",
    "            break\n",
    "    if es_primo:\n",
    "        print (n, 'es primo')\n",
    "print('Cantidad de Ciclos:', ciclos_con_break)        "
   ]
  },
  {
   "cell_type": "markdown",
   "metadata": {},
   "source": [
    "11) En los puntos 9 y 10, se diseño un código que encuentra números primos y además se lo optimizó. ¿Es posible saber en qué medida se optimizó?"
   ]
  },
  {
   "cell_type": "code",
   "execution_count": 17,
   "metadata": {},
   "outputs": [
    {
     "name": "stdout",
     "output_type": "stream",
     "text": [
      "Se optimizó en: 33.25 %\n"
     ]
    }
   ],
   "source": [
    "print('Se optimizó en:', round(((ciclos_con_break/ciclos_sin_break)*100),2),'%')"
   ]
  },
  {
   "cell_type": "markdown",
   "metadata": {},
   "source": [
    "12) Si la cantidad de números que se evalúa es mayor a treinta, esa optimización crece?"
   ]
  },
  {
   "cell_type": "code",
   "execution_count": 18,
   "metadata": {},
   "outputs": [
    {
     "name": "stdout",
     "output_type": "stream",
     "text": [
      "0 es primo\n",
      "1 es primo\n",
      "2 es primo\n",
      "3 es primo\n",
      "5 es primo\n",
      "7 es primo\n",
      "11 es primo\n",
      "13 es primo\n",
      "17 es primo\n",
      "19 es primo\n",
      "23 es primo\n",
      "29 es primo\n",
      "31 es primo\n",
      "37 es primo\n",
      "41 es primo\n",
      "43 es primo\n",
      "47 es primo\n",
      "53 es primo\n",
      "59 es primo\n",
      "61 es primo\n",
      "67 es primo\n",
      "71 es primo\n",
      "73 es primo\n",
      "79 es primo\n",
      "83 es primo\n",
      "89 es primo\n",
      "97 es primo\n",
      "101 es primo\n",
      "103 es primo\n",
      "107 es primo\n",
      "109 es primo\n",
      "113 es primo\n",
      "127 es primo\n",
      "131 es primo\n",
      "137 es primo\n",
      "139 es primo\n",
      "149 es primo\n",
      "151 es primo\n",
      "157 es primo\n",
      "163 es primo\n",
      "167 es primo\n",
      "173 es primo\n",
      "179 es primo\n",
      "181 es primo\n",
      "191 es primo\n",
      "193 es primo\n",
      "197 es primo\n",
      "199 es primo\n",
      "211 es primo\n",
      "223 es primo\n",
      "227 es primo\n",
      "229 es primo\n",
      "233 es primo\n",
      "239 es primo\n",
      "241 es primo\n",
      "251 es primo\n",
      "257 es primo\n",
      "263 es primo\n",
      "269 es primo\n",
      "271 es primo\n",
      "277 es primo\n",
      "281 es primo\n",
      "283 es primo\n",
      "293 es primo\n",
      "307 es primo\n",
      "311 es primo\n",
      "313 es primo\n",
      "317 es primo\n",
      "331 es primo\n",
      "337 es primo\n",
      "347 es primo\n",
      "349 es primo\n",
      "353 es primo\n",
      "359 es primo\n",
      "367 es primo\n",
      "373 es primo\n",
      "379 es primo\n",
      "383 es primo\n",
      "389 es primo\n",
      "397 es primo\n",
      "401 es primo\n",
      "409 es primo\n",
      "419 es primo\n",
      "421 es primo\n",
      "431 es primo\n",
      "433 es primo\n",
      "439 es primo\n",
      "443 es primo\n",
      "449 es primo\n",
      "457 es primo\n",
      "461 es primo\n",
      "463 es primo\n",
      "467 es primo\n",
      "479 es primo\n",
      "487 es primo\n",
      "491 es primo\n",
      "499 es primo\n",
      "503 es primo\n",
      "509 es primo\n",
      "521 es primo\n",
      "523 es primo\n",
      "541 es primo\n",
      "547 es primo\n",
      "557 es primo\n",
      "563 es primo\n",
      "569 es primo\n",
      "571 es primo\n",
      "577 es primo\n",
      "587 es primo\n",
      "593 es primo\n",
      "599 es primo\n",
      "601 es primo\n",
      "607 es primo\n",
      "613 es primo\n",
      "617 es primo\n",
      "619 es primo\n",
      "631 es primo\n",
      "641 es primo\n",
      "643 es primo\n",
      "647 es primo\n",
      "653 es primo\n",
      "659 es primo\n",
      "661 es primo\n",
      "673 es primo\n",
      "677 es primo\n",
      "683 es primo\n",
      "691 es primo\n",
      "701 es primo\n",
      "709 es primo\n",
      "719 es primo\n",
      "727 es primo\n",
      "733 es primo\n",
      "739 es primo\n",
      "743 es primo\n",
      "751 es primo\n",
      "757 es primo\n",
      "761 es primo\n",
      "769 es primo\n",
      "773 es primo\n",
      "787 es primo\n",
      "797 es primo\n",
      "809 es primo\n",
      "811 es primo\n",
      "821 es primo\n",
      "823 es primo\n",
      "827 es primo\n",
      "829 es primo\n",
      "839 es primo\n",
      "853 es primo\n",
      "857 es primo\n",
      "859 es primo\n",
      "863 es primo\n",
      "877 es primo\n",
      "881 es primo\n",
      "883 es primo\n",
      "887 es primo\n",
      "907 es primo\n",
      "911 es primo\n",
      "919 es primo\n",
      "929 es primo\n",
      "937 es primo\n",
      "941 es primo\n",
      "947 es primo\n",
      "953 es primo\n",
      "967 es primo\n",
      "971 es primo\n",
      "977 es primo\n",
      "983 es primo\n",
      "991 es primo\n",
      "997 es primo\n",
      "Cantidad de Ciclos: 498501\n"
     ]
    }
   ],
   "source": [
    "ciclos_sin_break = 0\n",
    "for n in range (0,1001):\n",
    "    es_primo = True\n",
    "    for i in range (2,n):\n",
    "        ciclos_sin_break +=1\n",
    "        if n % i == 0:\n",
    "            es_primo = False\n",
    "    if es_primo:\n",
    "        print (n, 'es primo')\n",
    "print('Cantidad de Ciclos:', ciclos_sin_break)        "
   ]
  },
  {
   "cell_type": "code",
   "execution_count": 19,
   "metadata": {},
   "outputs": [
    {
     "name": "stdout",
     "output_type": "stream",
     "text": [
      "0 es primo\n",
      "1 es primo\n",
      "2 es primo\n",
      "3 es primo\n",
      "5 es primo\n",
      "7 es primo\n",
      "11 es primo\n",
      "13 es primo\n",
      "17 es primo\n",
      "19 es primo\n",
      "23 es primo\n",
      "29 es primo\n",
      "31 es primo\n",
      "37 es primo\n",
      "41 es primo\n",
      "43 es primo\n",
      "47 es primo\n",
      "53 es primo\n",
      "59 es primo\n",
      "61 es primo\n",
      "67 es primo\n",
      "71 es primo\n",
      "73 es primo\n",
      "79 es primo\n",
      "83 es primo\n",
      "89 es primo\n",
      "97 es primo\n",
      "101 es primo\n",
      "103 es primo\n",
      "107 es primo\n",
      "109 es primo\n",
      "113 es primo\n",
      "127 es primo\n",
      "131 es primo\n",
      "137 es primo\n",
      "139 es primo\n",
      "149 es primo\n",
      "151 es primo\n",
      "157 es primo\n",
      "163 es primo\n",
      "167 es primo\n",
      "173 es primo\n",
      "179 es primo\n",
      "181 es primo\n",
      "191 es primo\n",
      "193 es primo\n",
      "197 es primo\n",
      "199 es primo\n",
      "211 es primo\n",
      "223 es primo\n",
      "227 es primo\n",
      "229 es primo\n",
      "233 es primo\n",
      "239 es primo\n",
      "241 es primo\n",
      "251 es primo\n",
      "257 es primo\n",
      "263 es primo\n",
      "269 es primo\n",
      "271 es primo\n",
      "277 es primo\n",
      "281 es primo\n",
      "283 es primo\n",
      "293 es primo\n",
      "307 es primo\n",
      "311 es primo\n",
      "313 es primo\n",
      "317 es primo\n",
      "331 es primo\n",
      "337 es primo\n",
      "347 es primo\n",
      "349 es primo\n",
      "353 es primo\n",
      "359 es primo\n",
      "367 es primo\n",
      "373 es primo\n",
      "379 es primo\n",
      "383 es primo\n",
      "389 es primo\n",
      "397 es primo\n",
      "401 es primo\n",
      "409 es primo\n",
      "419 es primo\n",
      "421 es primo\n",
      "431 es primo\n",
      "433 es primo\n",
      "439 es primo\n",
      "443 es primo\n",
      "449 es primo\n",
      "457 es primo\n",
      "461 es primo\n",
      "463 es primo\n",
      "467 es primo\n",
      "479 es primo\n",
      "487 es primo\n",
      "491 es primo\n",
      "499 es primo\n",
      "503 es primo\n",
      "509 es primo\n",
      "521 es primo\n",
      "523 es primo\n",
      "541 es primo\n",
      "547 es primo\n",
      "557 es primo\n",
      "563 es primo\n",
      "569 es primo\n",
      "571 es primo\n",
      "577 es primo\n",
      "587 es primo\n",
      "593 es primo\n",
      "599 es primo\n",
      "601 es primo\n",
      "607 es primo\n",
      "613 es primo\n",
      "617 es primo\n",
      "619 es primo\n",
      "631 es primo\n",
      "641 es primo\n",
      "643 es primo\n",
      "647 es primo\n",
      "653 es primo\n",
      "659 es primo\n",
      "661 es primo\n",
      "673 es primo\n",
      "677 es primo\n",
      "683 es primo\n",
      "691 es primo\n",
      "701 es primo\n",
      "709 es primo\n",
      "719 es primo\n",
      "727 es primo\n",
      "733 es primo\n",
      "739 es primo\n",
      "743 es primo\n",
      "751 es primo\n",
      "757 es primo\n",
      "761 es primo\n",
      "769 es primo\n",
      "773 es primo\n",
      "787 es primo\n",
      "797 es primo\n",
      "809 es primo\n",
      "811 es primo\n",
      "821 es primo\n",
      "823 es primo\n",
      "827 es primo\n",
      "829 es primo\n",
      "839 es primo\n",
      "853 es primo\n",
      "857 es primo\n",
      "859 es primo\n",
      "863 es primo\n",
      "877 es primo\n",
      "881 es primo\n",
      "883 es primo\n",
      "887 es primo\n",
      "907 es primo\n",
      "911 es primo\n",
      "919 es primo\n",
      "929 es primo\n",
      "937 es primo\n",
      "941 es primo\n",
      "947 es primo\n",
      "953 es primo\n",
      "967 es primo\n",
      "971 es primo\n",
      "977 es primo\n",
      "983 es primo\n",
      "991 es primo\n",
      "997 es primo\n",
      "Cantidad de Ciclos: 78022\n"
     ]
    }
   ],
   "source": [
    "ciclos_con_break = 0\n",
    "for n in range (0,1001):\n",
    "    es_primo = True\n",
    "    for i in range (2,n):\n",
    "        ciclos_con_break += 1\n",
    "        if n % i == 0:\n",
    "            es_primo = False\n",
    "            break\n",
    "    if es_primo:\n",
    "        print (n, 'es primo')\n",
    "print('Cantidad de Ciclos:', ciclos_con_break)      "
   ]
  },
  {
   "cell_type": "code",
   "execution_count": 20,
   "metadata": {},
   "outputs": [
    {
     "name": "stdout",
     "output_type": "stream",
     "text": [
      "Se optimizó en: 15.65 %\n"
     ]
    }
   ],
   "source": [
    "print('Se optimizó en:', round(((ciclos_con_break/ciclos_sin_break)*100),2),'%')"
   ]
  },
  {
   "cell_type": "markdown",
   "metadata": {},
   "source": [
    "13) Aplicando continue, armar un ciclo while que solo imprima los valores divisibles por 12, dentro del rango de números de 100 a 300"
   ]
  },
  {
   "cell_type": "code",
   "execution_count": 21,
   "metadata": {},
   "outputs": [
    {
     "name": "stdout",
     "output_type": "stream",
     "text": [
      "108 es divisible por 12\n",
      "120 es divisible por 12\n",
      "132 es divisible por 12\n",
      "144 es divisible por 12\n",
      "156 es divisible por 12\n",
      "168 es divisible por 12\n",
      "180 es divisible por 12\n",
      "192 es divisible por 12\n",
      "204 es divisible por 12\n",
      "216 es divisible por 12\n",
      "228 es divisible por 12\n",
      "240 es divisible por 12\n",
      "252 es divisible por 12\n",
      "264 es divisible por 12\n",
      "276 es divisible por 12\n",
      "288 es divisible por 12\n",
      "300 es divisible por 12\n"
     ]
    }
   ],
   "source": [
    "n = 99\n",
    "while n <= 300:\n",
    "    n += 1\n",
    "    if n % 12 != 0:\n",
    "        continue\n",
    "    print(n, 'es divisible por 12')"
   ]
  },
  {
   "cell_type": "markdown",
   "metadata": {},
   "source": [
    "14) Utilizar la función **input()** que permite hacer ingresos por teclado, para encontrar números primos y dar la opción al usario de buscar el siguiente"
   ]
  },
  {
   "cell_type": "code",
   "execution_count": 22,
   "metadata": {},
   "outputs": [
    {
     "name": "stdout",
     "output_type": "stream",
     "text": [
      "1\n",
      "¿Desea encontrar el siguiente número primo?\n",
      "2\n",
      "¿Desea encontrar el siguiente número primo?\n",
      "3\n",
      "¿Desea encontrar el siguiente número primo?\n",
      "5\n",
      "¿Desea encontrar el siguiente número primo?\n",
      "7\n",
      "¿Desea encontrar el siguiente número primo?\n",
      "Se finaliza el proceso.\n"
     ]
    }
   ],
   "source": [
    "n = 1\n",
    "siguiente = 'si'\n",
    "es_primo = True\n",
    "while siguiente == 'si':\n",
    "    for i in range (2, n):\n",
    "        if n % i == 0:\n",
    "            es_primo = False\n",
    "            break\n",
    "    if es_primo:\n",
    "        print(n)\n",
    "        print('¿Desea encontrar el siguiente número primo?')\n",
    "        if input() != 'si':\n",
    "            print('Se finaliza el proceso.')\n",
    "            break\n",
    "    else:\n",
    "        es_primo = True\n",
    "    n += 1"
   ]
  },
  {
   "cell_type": "markdown",
   "metadata": {},
   "source": [
    "15) Crear un ciclo while que encuentre dentro del rango de 100 a 300 el primer número divisible por 3 y además múltiplo de 6"
   ]
  },
  {
   "cell_type": "code",
   "execution_count": 23,
   "metadata": {},
   "outputs": [
    {
     "name": "stdout",
     "output_type": "stream",
     "text": [
      "El número es: 102\n"
     ]
    }
   ],
   "source": [
    "for i in range (100, 301):\n",
    "    if i % 6 == 0:\n",
    "        print('El número es:', str(i))\n",
    "        break"
   ]
  },
  {
   "cell_type": "code",
   "execution_count": 24,
   "metadata": {},
   "outputs": [
    {
     "name": "stdout",
     "output_type": "stream",
     "text": [
      "El número es: 102\n"
     ]
    }
   ],
   "source": [
    "inferior = 100\n",
    "superior = 300\n",
    "while inferior <= superior:\n",
    "    if inferior % 6 == 0:\n",
    "        print('El número es:', str(inferior))\n",
    "        break\n",
    "    inferior += 1 "
   ]
  }
 ],
 "metadata": {
  "kernelspec": {
   "display_name": "Python 3.9.13 ('base')",
   "language": "python",
   "name": "python3"
  },
  "language_info": {
   "codemirror_mode": {
    "name": "ipython",
    "version": 3
   },
   "file_extension": ".py",
   "mimetype": "text/x-python",
   "name": "python",
   "nbconvert_exporter": "python",
   "pygments_lexer": "ipython3",
   "version": "3.9.13"
  },
  "vscode": {
   "interpreter": {
    "hash": "4ba422c6f611811cc6c95f6d41eae82a025161ce40be707819803f73cdf718eb"
   }
  }
 },
 "nbformat": 4,
 "nbformat_minor": 4
}
